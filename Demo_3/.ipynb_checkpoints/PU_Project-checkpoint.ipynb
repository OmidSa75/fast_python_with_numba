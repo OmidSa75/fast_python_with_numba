{
 "cells": [
  {
   "cell_type": "markdown",
   "id": "aerial-april",
   "metadata": {},
   "source": [
    "# This is the practice for PU  project\n",
    "\n",
    "Try to implement processign functions in numba.jit mode to realtime executation."
   ]
  },
  {
   "cell_type": "code",
   "execution_count": 1,
   "id": "macro-rates",
   "metadata": {},
   "outputs": [],
   "source": [
    "import numpy as np\n",
    "import numba"
   ]
  },
  {
   "cell_type": "code",
   "execution_count": 2,
   "id": "abstract-juvenile",
   "metadata": {},
   "outputs": [
    {
     "name": "stdout",
     "output_type": "stream",
     "text": [
      "(14, 200)\n"
     ]
    }
   ],
   "source": [
    "signal = np.load('pu_signal.npy')\n",
    "print(signal.shape)"
   ]
  },
  {
   "cell_type": "markdown",
   "id": "emerging-carolina",
   "metadata": {},
   "source": [
    "## Calculate RMS"
   ]
  },
  {
   "cell_type": "code",
   "execution_count": 3,
   "id": "fitting-sullivan",
   "metadata": {},
   "outputs": [],
   "source": [
    "def signal_rms(signal):\n",
    "    square_signal = np.power(signal, 2)\n",
    "    mean_signal = np.mean(square_signal, axis=1)\n",
    "    root_signal = np.sqrt(mean_signal)\n",
    "\n",
    "    return root_signal"
   ]
  },
  {
   "cell_type": "code",
   "execution_count": 4,
   "id": "concerned-cassette",
   "metadata": {},
   "outputs": [
    {
     "name": "stdout",
     "output_type": "stream",
     "text": [
      "36.7 µs ± 280 ns per loop (mean ± std. dev. of 7 runs, 10000 loops each)\n"
     ]
    }
   ],
   "source": [
    "%%timeit\n",
    "signal_rms(signal)"
   ]
  },
  {
   "cell_type": "code",
   "execution_count": 24,
   "id": "quarterly-friend",
   "metadata": {},
   "outputs": [],
   "source": [
    "@numba.njit\n",
    "def fast_signal_rms(signal):\n",
    "    square_signal = np.power(signal, 2)\n",
    "    sum_signal = np.sum(square_signal, axis=1)\n",
    "    mean_signal = sum_signal / signal.shape[1]\n",
    "    root_signal = np.sqrt(mean_signal)\n",
    "\n",
    "    return root_signal"
   ]
  },
  {
   "cell_type": "markdown",
   "id": "guilty-release",
   "metadata": {},
   "source": [
    "##### Run without jit"
   ]
  },
  {
   "cell_type": "code",
   "execution_count": 25,
   "id": "recorded-mixer",
   "metadata": {},
   "outputs": [
    {
     "name": "stdout",
     "output_type": "stream",
     "text": [
      "35.5 µs ± 252 ns per loop (mean ± std. dev. of 7 runs, 10000 loops each)\n"
     ]
    }
   ],
   "source": [
    "%%timeit\n",
    "a = fast_signal_rms.py_func(signal)"
   ]
  },
  {
   "cell_type": "markdown",
   "id": "fatty-cache",
   "metadata": {},
   "source": [
    "##### Run with jit"
   ]
  },
  {
   "cell_type": "code",
   "execution_count": 29,
   "id": "specified-congress",
   "metadata": {},
   "outputs": [
    {
     "name": "stdout",
     "output_type": "stream",
     "text": [
      "2.87 µs ± 18.8 ns per loop (mean ± std. dev. of 7 runs, 100000 loops each)\n"
     ]
    }
   ],
   "source": [
    "%%timeit\n",
    "b = fast_signal_rms(signal)"
   ]
  },
  {
   "cell_type": "code",
   "execution_count": 30,
   "id": "liberal-banner",
   "metadata": {},
   "outputs": [],
   "source": [
    "rms = signal_rms(signal)\n",
    "fast_rms = fast_signal_rms(signal)"
   ]
  },
  {
   "cell_type": "code",
   "execution_count": 31,
   "id": "cooked-terrace",
   "metadata": {},
   "outputs": [
    {
     "name": "stdout",
     "output_type": "stream",
     "text": [
      "[[ 8.21705537  8.21705537]\n",
      " [11.43678295 11.43678295]\n",
      " [ 3.28633536  3.28633536]\n",
      " [ 3.41760151  3.41760151]\n",
      " [ 9.64987037  9.64987037]\n",
      " [ 5.93295878  5.93295878]\n",
      " [11.03086585 11.03086585]\n",
      " [ 8.94427204  8.94427204]\n",
      " [11.3982453  11.3982453 ]\n",
      " [ 9.60416583  9.60416583]\n",
      " [ 8.48528151  8.48528151]\n",
      " [13.92264349 13.92264349]\n",
      " [11.15347475 11.15347475]\n",
      " [16.29232925 16.29232925]]\n"
     ]
    }
   ],
   "source": [
    "print(np.c_[rms, fast_rms])"
   ]
  },
  {
   "cell_type": "markdown",
   "id": "accepted-potential",
   "metadata": {},
   "source": [
    "### Sampling Signal"
   ]
  },
  {
   "cell_type": "code",
   "execution_count": 32,
   "id": "private-student",
   "metadata": {},
   "outputs": [],
   "source": [
    "def moving_frame(frame_len, signal):\n",
    "    num_frames = np.int64(np.ceil(signal.shape[1] / frame_len))\n",
    "    rms_signal_samples = np.zeros((signal.shape[0], num_frames))\n",
    "    for i in range(num_frames):\n",
    "        sample_signal = signal[:, i * frame_len:(i + 1) * frame_len]\n",
    "        sample_rms = fast_signal_rms(sample_signal)\n",
    "        rms_signal_samples[:, i] = sample_rms\n",
    "\n",
    "    return rms_signal_samples"
   ]
  },
  {
   "cell_type": "code",
   "execution_count": 82,
   "id": "canadian-hormone",
   "metadata": {},
   "outputs": [
    {
     "name": "stdout",
     "output_type": "stream",
     "text": [
      "38.2 µs ± 1.02 µs per loop (mean ± std. dev. of 7 runs, 10000 loops each)\n"
     ]
    }
   ],
   "source": [
    "%%timeit -n 10000\n",
    "moving_frame(10, signal)"
   ]
  },
  {
   "cell_type": "code",
   "execution_count": 61,
   "id": "gothic-annotation",
   "metadata": {},
   "outputs": [],
   "source": [
    "@numba.njit\n",
    "def fast_moving_frame(frame_len, signal):\n",
    "    num_frames = np.int64(np.ceil(signal.shape[1] / frame_len))\n",
    "    rms_signal_samples = np.zeros((signal.shape[0], num_frames))\n",
    "    for i in range(num_frames):\n",
    "        sample_signal = signal[:, i * frame_len:(i + 1) * frame_len]\n",
    "        sample_rms = fast_signal_rms(sample_signal)\n",
    "        rms_signal_samples[:, i] = sample_rms\n",
    "\n",
    "    return rms_signal_samples"
   ]
  },
  {
   "cell_type": "code",
   "execution_count": 83,
   "id": "joint-robin",
   "metadata": {},
   "outputs": [
    {
     "name": "stdout",
     "output_type": "stream",
     "text": [
      "15.9 µs ± 1.02 µs per loop (mean ± std. dev. of 7 runs, 10000 loops each)\n"
     ]
    }
   ],
   "source": [
    "%%timeit -n 10000\n",
    "fast_moving_frame(10, signal)"
   ]
  },
  {
   "cell_type": "code",
   "execution_count": 39,
   "id": "spoken-equivalent",
   "metadata": {},
   "outputs": [
    {
     "name": "stdout",
     "output_type": "stream",
     "text": [
      "[[34.96283711 34.96283711]\n",
      " [ 2.52982213  2.52982213]\n",
      " [ 1.26491106  1.26491106]\n",
      " [ 2.19089023  2.19089023]\n",
      " [ 1.26491106  1.26491106]\n",
      " [ 3.34664011  3.34664011]\n",
      " [ 2.52982213  2.52982213]\n",
      " [ 3.09838662  3.09838662]\n",
      " [ 1.78885438  1.78885438]\n",
      " [ 3.57770873  3.57770873]\n",
      " [ 3.57770875  3.57770875]\n",
      " [ 1.78885438  1.78885438]\n",
      " [ 2.52982211  2.52982211]\n",
      " [ 3.09838662  3.09838662]\n",
      " [ 0.          0.        ]\n",
      " [ 1.78885438  1.78885438]\n",
      " [ 3.34664009  3.34664009]\n",
      " [ 2.19089023  2.19089023]\n",
      " [ 3.09838668  3.09838668]\n",
      " [ 3.09838668  3.09838668]]\n"
     ]
    }
   ],
   "source": [
    "mf = moving_frame(10, signal)\n",
    "fast_mf = fast_moving_frame(10, signal)\n",
    "print(np.c_[mf[0], fast_mf[0]])"
   ]
  },
  {
   "cell_type": "code",
   "execution_count": null,
   "id": "charged-canberra",
   "metadata": {},
   "outputs": [],
   "source": []
  }
 ],
 "metadata": {
  "kernelspec": {
   "display_name": "Python 3",
   "language": "python",
   "name": "python3"
  },
  "language_info": {
   "codemirror_mode": {
    "name": "ipython",
    "version": 3
   },
   "file_extension": ".py",
   "mimetype": "text/x-python",
   "name": "python",
   "nbconvert_exporter": "python",
   "pygments_lexer": "ipython3",
   "version": "3.7.9"
  }
 },
 "nbformat": 4,
 "nbformat_minor": 5
}
